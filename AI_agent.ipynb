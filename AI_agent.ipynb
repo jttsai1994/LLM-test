{
  "nbformat": 4,
  "nbformat_minor": 0,
  "metadata": {
    "colab": {
      "provenance": []
    },
    "kernelspec": {
      "name": "python3",
      "display_name": "Python 3"
    },
    "language_info": {
      "name": "python"
    }
  },
  "cells": [
    {
      "cell_type": "markdown",
      "source": [
        "## 用 LangChain Agent 實現上網搜尋\n",
        "\n",
        "---\n",
        "\n"
      ],
      "metadata": {
        "id": "17HzLWW3vS2H"
      }
    },
    {
      "cell_type": "code",
      "source": [
        "!pip install google_custom_search\n",
        "\n",
        "import google_custom_search\n",
        "from google.colab import userdata\n",
        "\n",
        "GOOGLE_API_KEY = userdata.get('GOOGLE_API_KEY') #\n",
        "GOOGLE_ENGINE_ID = userdata.get('GOOGLE_ENGINE_ID') #\n",
        "\n",
        "google = google_custom_search.CustomSearch(google_custom_search.RequestsAdapter(GOOGLE_API_KEY, GOOGLE_ENGINE_ID))\n",
        "google"
      ],
      "metadata": {
        "colab": {
          "base_uri": "https://localhost:8080/"
        },
        "id": "nrYL2OGD1GvB",
        "outputId": "3e6dc019-12aa-4928-fb11-87a79e9cf7b9"
      },
      "execution_count": 4,
      "outputs": [
        {
          "output_type": "stream",
          "name": "stdout",
          "text": [
            "Requirement already satisfied: google_custom_search in /usr/local/lib/python3.10/dist-packages (3.0.0)\n",
            "Requirement already satisfied: requests>=2.27.1 in /usr/local/lib/python3.10/dist-packages (from google_custom_search) (2.32.3)\n",
            "Requirement already satisfied: charset-normalizer<4,>=2 in /usr/local/lib/python3.10/dist-packages (from requests>=2.27.1->google_custom_search) (3.4.0)\n",
            "Requirement already satisfied: idna<4,>=2.5 in /usr/local/lib/python3.10/dist-packages (from requests>=2.27.1->google_custom_search) (3.10)\n",
            "Requirement already satisfied: urllib3<3,>=1.21.1 in /usr/local/lib/python3.10/dist-packages (from requests>=2.27.1->google_custom_search) (2.2.3)\n",
            "Requirement already satisfied: certifi>=2017.4.17 in /usr/local/lib/python3.10/dist-packages (from requests>=2.27.1->google_custom_search) (2024.12.14)\n"
          ]
        },
        {
          "output_type": "execute_result",
          "data": {
            "text/plain": [
              "<google_custom_search.search.CustomSearch at 0x7fb400383a60>"
            ]
          },
          "metadata": {},
          "execution_count": 4
        }
      ]
    },
    {
      "cell_type": "code",
      "source": [
        "!pip install langchain\n",
        "!pip install langchain-openai\n",
        "!pip install langchain_google_genai\n",
        "!pip install langchain_community"
      ],
      "metadata": {
        "id": "2DkGbu_avSHB"
      },
      "execution_count": null,
      "outputs": []
    },
    {
      "cell_type": "code",
      "source": [
        "!pip install langchain_google_community\n"
      ],
      "metadata": {
        "id": "uNyjedcw7y3M"
      },
      "execution_count": null,
      "outputs": []
    },
    {
      "cell_type": "code",
      "execution_count": 7,
      "metadata": {
        "colab": {
          "base_uri": "https://localhost:8080/"
        },
        "outputId": "30913917-e180-4bdb-e97e-b50b601a49e8",
        "id": "IQzdIiV6B1Zq"
      },
      "outputs": [
        {
          "output_type": "stream",
          "name": "stderr",
          "text": [
            "<ipython-input-7-44b2cb1e67ce>:25: LangChainDeprecationWarning: The class `ChatOpenAI` was deprecated in LangChain 0.0.10 and will be removed in 1.0. An updated version of the class exists in the :class:`~langchain-openai package and should be used instead. To use it run `pip install -U :class:`~langchain-openai` and import as `from :class:`~langchain_openai import ChatOpenAI``.\n",
            "  model = ChatOpenAI(openai_api_key=OPENAI_API_KEY)\n",
            "<ipython-input-7-44b2cb1e67ce>:40: LangChainDeprecationWarning: LangChain agents will continue to be supported, but it is recommended for new use cases to be built with LangGraph. LangGraph offers a more flexible and full-featured framework for building agents, including support for tool-calling, persistence of state, and human-in-the-loop workflows. See LangGraph documentation for more details: https://langchain-ai.github.io/langgraph/. Refer here for its pre-built ReAct agent: https://langchain-ai.github.io/langgraph/how-tos/create-react-agent/\n",
            "  agent = initialize_agent(tools, model, agent=AgentType.ZERO_SHOT_REACT_DESCRIPTION, verbose=True)\n",
            "<ipython-input-7-44b2cb1e67ce>:43: LangChainDeprecationWarning: The method `Chain.run` was deprecated in langchain 0.1.0 and will be removed in 1.0. Use :meth:`~invoke` instead.\n",
            "  response = agent.run(\"請問台灣2024年的台北立委是的有誰？\")\n"
          ]
        },
        {
          "output_type": "stream",
          "name": "stdout",
          "text": [
            "\n",
            "\n",
            "\u001b[1m> Entering new AgentExecutor chain...\u001b[0m\n",
            "\u001b[32;1m\u001b[1;3mI should use the Google search tool to find the answer to this question.\n",
            "Action: google-search\n",
            "Action Input: 台灣2024年台北立委名單\u001b[0m\n",
            "Observation: \u001b[36;1m\u001b[1;3mJan 19, 2024 ... 1.台北市：吳思瑤、王世堅、王鴻薇、李彥秀、吳沛憶、羅智強、徐巧芯、賴士葆。 2.新北市：洪孟楷、林淑芬、李坤城、吳秉叡、蘇巧慧、張宏陸、葉元之、 ... 立法院第十一屆立法委員於2024年1月13日選出，任期自2024年2月1日至2028年1月31日，為當前中華民國最高立法機關立法院最新一屆立法委員，開會地點位於臺北市。 離職立法委員名單 ... 傳真至人事處。 黨籍、選區、學(經)歷、最高畢業學歷源自各屆立法委員選舉公報登錄之內容。 當屆若各項資料變更，依立法院立法委員網頁簡介變更維護單 ... 本屆選舉為立法院採用單一選區兩票制之後的第5次選舉。 第11屆立法委員選舉. ← 2020年 ... Jan 13, 2024 ... 第16任總統副總統與第11屆立法委員選舉今天舉行，立委總席次共113席，包含73席區域立委，3席平地原住民立委、3席山地原住民立委。以下是各縣市區域立委 ... 2024立委當選名單一次看國民黨52席重回國會第一大黨. 丁世傑. 2024年1月13日. 立法院。（資料照片）. 立委席次分配。（中時新聞網）. 2024總統暨立委大選今（13）日登場，區域 ... Jan 13, 2024 ... 2024總統立委選舉結果出爐。縱觀6都立委選情，台北市部分，國民黨贏5席、民進黨拿3席。台中市立委版圖也是藍大於綠，國民黨拿下6席，民進黨則為2席。 Sep 14, 2023 ... 2024年立法委員選舉， ... 立委呂玉玲；台灣民眾黨提名現任立委賴香伶. 廣告. 廣告. 第六選區（八德 ... Jan 19, 2024 ... 中央社記者賴于榛台北19日電）中選會今天公告第11屆立法委員選舉結果暨當選人名單，113立委席次中，區域立委共73席、不分區立委34席、原住民立委6席。 Nov 20, 2023 ... ... 市立委，以及現任立委王婉諭挑戰新竹縣第二選區、以及桃園市第一選區徐鈺雯。不分區名單已於日前公布。 台灣基進的區域立委提名人選，則有台北市南港 ...\u001b[0m\n",
            "Thought:\u001b[32;1m\u001b[1;3mThe list of Taipei City legislators for 2024 can be found in the search results.\n",
            "Final Answer: 吳思瑤、王世堅、王鴻薇、李彥秀、吳沛憶、羅智強、徐巧芯、賴士葆\u001b[0m\n",
            "\n",
            "\u001b[1m> Finished chain.\u001b[0m\n",
            "吳思瑤、王世堅、王鴻薇、李彥秀、吳沛憶、羅智強、徐巧芯、賴士葆\n"
          ]
        }
      ],
      "source": [
        "import os\n",
        "from google.colab import userdata\n",
        "\n",
        "os.environ[\"GOOGLE_CSE_ID\"] = userdata.get('GOOGLE_ENGINE_ID')\n",
        "os.environ[\"GOOGLE_API_KEY\"] = userdata.get('GOOGLE_API_KEY')\n",
        "OPENAI_API_KEY = userdata.get(\"OPENAI_API_KEY\")\n",
        "\n",
        "# from langchain.agents import AgentType, initialize_agent, load_tools\n",
        "# from langchain.chat_models import ChatOpenAI\n",
        "\n",
        "# model = ChatOpenAI(openai_api_key=OPENAI_API_KEY)\n",
        "# tools = load_tools([\"google-search\"], llm=model)\n",
        "# agent = initialize_agent(tools, model, agent=AgentType.ZERO_SHOT_REACT_DESCRIPTION, verbose=True)\n",
        "\n",
        "# reponse = agent.run(\"請問台灣現任的台北立委是的有誰？\") # 練習：改成其他具有時效性的問題，觀察結果後貼到聊天室。\n",
        "\n",
        "# print('===== Response =====')\n",
        "# print(reponse)\n",
        "\n",
        "from langchain.agents import AgentType, initialize_agent, Tool\n",
        "from langchain.chat_models import ChatOpenAI\n",
        "from langchain_google_community import GoogleSearchAPIWrapper\n",
        "\n",
        "# 初始化模型\n",
        "model = ChatOpenAI(openai_api_key=OPENAI_API_KEY)\n",
        "\n",
        "# 自訂 Google Search 工具\n",
        "search_tool = GoogleSearchAPIWrapper()\n",
        "\n",
        "# 定義工具\n",
        "tools = [\n",
        "    Tool(\n",
        "        name=\"google-search\",\n",
        "        func=search_tool.run,\n",
        "        description=\"使用 Google 搜尋工具（繁體中文）\"\n",
        "    )\n",
        "]\n",
        "\n",
        "# 初始化 Agent\n",
        "agent = initialize_agent(tools, model, agent=AgentType.ZERO_SHOT_REACT_DESCRIPTION, verbose=True)\n",
        "\n",
        "# 測試查詢\n",
        "response = agent.run(\"請問台灣2024年的台北立委是的有誰？\")\n",
        "print(response)\n",
        "\n",
        "\n"
      ]
    },
    {
      "cell_type": "code",
      "source": [
        "from google.colab import userdata\n",
        "from openai import OpenAI\n",
        "\n",
        "api_key = userdata.get(\"OPENAI_API_KEY\")\n",
        "client = OpenAI(api_key = OPENAI_API_KEY)\n",
        "\n",
        "query = \"請問 2024 年台灣立法院長是誰？\"\n",
        "\n",
        "d = client.chat.completions.create(\n",
        "    model = \"gpt-4o-mini\",\n",
        "    messages = [\n",
        "        {\"role\":\"system\", \"content\": \"當你不確定使用者問題的答案時，請回答「不知道」\"},\n",
        "        {\"role\":\"user\", \"content\": query}\n",
        "    ]\n",
        ")\n",
        "\n",
        "if '不知道' in d.choices[0].message.content:\n",
        "\n",
        "  print('===== 啟動 google.search =====') # 使用 API 查詢 = 超過上限要收費\n",
        "  content = \"以下為已發生的事實：\\n\"\n",
        "  for res in google.search(query):\n",
        "      content += f\"標題：{res.title}\\n摘要：{res.snippet}\\n\\n\"\n",
        "  content += \"請依照上述事實回答以下問題。\\n\"\n",
        "  print(content)\n",
        "\n",
        "  d = client.chat.completions.create(\n",
        "      model = \"gpt-4o-mini\",\n",
        "      messages = [\n",
        "          {\"role\":\"system\", \"content\": content},\n",
        "          {\"role\":\"user\", \"content\": query}\n",
        "      ]\n",
        "  )\n",
        "\n",
        "print('===== Response =====')\n",
        "print(d.choices[0].message.content)"
      ],
      "metadata": {
        "colab": {
          "base_uri": "https://localhost:8080/"
        },
        "id": "ebLx2vyqz4mR",
        "outputId": "151e8c88-bf63-4504-f1f4-f2baf7dc637f"
      },
      "execution_count": 8,
      "outputs": [
        {
          "output_type": "stream",
          "name": "stdout",
          "text": [
            "===== 啟動 google.search =====\n",
            "以下為已發生的事實：\n",
            "標題：韓國瑜：「韓風」再現台灣政壇，新立法院長上任首日打傘標榜 ...\n",
            "摘要：Feb 2, 2024 ... 此前韓國瑜還曾經回應外界對其20多年前擔任立法委員時問政不認真，疏懶的批評。韓國瑜稱，「其實，我也多次承認自己年輕時在立法院放縱的過去，但是那是20年前 ...\n",
            "\n",
            "標題：韓國瑜當選立法院長，重回台灣政治舞台中心｜Whatsnew | 端傳媒 ...\n",
            "摘要：Feb 1, 2024 ... 可以對政局構成哪些影響？多次爭議的「警察權」又是什麼？ 2024年2月1日，立法院，韓國瑜 ...\n",
            "\n",
            "標題：支持“九二共识”的韩国瑜当选台湾立法院长\n",
            "摘要：Feb 2, 2024 ... 台湾立法院这一届呈现“三党不过半”局面，因此国会的合纵连横将成为未来四年台湾政坛的焦点，而立法院长选举正是民进党、国民党、民众党首次交手。 在第一轮 ...\n",
            "\n",
            "標題：韩国瑜：“韩风”再现台湾政坛，新立法院长上任首日打伞标榜 ...\n",
            "摘要：Feb 2, 2024 ... 韩国瑜称，“其实，我也多次承认自己年轻时在立法院放纵的过去，但是那是20年前的我，今天的我已经不一样。” ... 中國獨立導演耿軍與團隊參與2024年台灣金馬獎。\n",
            "\n",
            "標題：被视为亲中的国民党人韩国瑜当选台湾立法院长\n",
            "摘要：Feb 1, 2024 ... 国民党立委韩国瑜（中）2024年2月1日当选台湾立法院院长。（法新社 ... 苔岛政客，就每一个好玩意儿。 一統中國 • 11 月之前. 台灣人真是一幫Idiot尤其是一些 ...\n",
            "\n",
            "標題：客座评论：当韩国瑜拿下台湾立法院龙头宝座之后– DW – 2024年2月 ...\n",
            "摘要：Feb 2, 2024 ... 经过两轮的投票，台湾新一届立法院院长确定由国民党籍、争议性极高的韩国瑜当选，这个不算意外的结果对台湾未来4年代表了什麽？\n",
            "\n",
            "標題：第十一届立法院院长选举- 维基百科，自由的百科全书\n",
            "摘要：第十一届立法院正副院长选举，于2024年（民国113年）2月1日举行，为中华民国 ... 立院龍頭選舉明登場朱立倫喊話賴清德：若動用利益勾結是將台灣推向黑暗面.\n",
            "\n",
            "標題：立法院院长- 维基百科，自由的百科全书\n",
            "摘要：自2024年2月1日. 尊称, 院长、国会议长、立法院龙头、立院龙头、国会龙头、立法院主席、立院主席、国会主席. 类别, 国会议长. 官邸 · 台湾台北市中正区重庆南路二段8巷3号.\n",
            "\n",
            "標題：韩国瑜当选立法院长，重回台湾政治舞台中心｜Whatsnew | 端传媒 ...\n",
            "摘要：Feb 1, 2024 ... 立法院长有何职权？可以对政局构成哪些影响？多次争议的“警察权”又是什么？ 2024年2月1日，立法院，韩国瑜当选立法院院长。摄：陈焯煇/端传媒.\n",
            "\n",
            "標題：报道：台湾立法院长游锡堃访问美国国会\n",
            "摘要：May 16, 2023 ... 这位消息人士就游锡堃来访所作的背景说明指出，游锡堃自2020年2月起担任台湾立法院院长，他是一位主张台湾拥有更多独立性的强力倡议者，也是目前执政的民主 ...\n",
            "\n",
            "請依照上述事實回答以下問題。\n",
            "\n",
            "===== Response =====\n",
            "2024年台灣立法院長是韓國瑜。\n"
          ]
        }
      ]
    },
    {
      "cell_type": "code",
      "source": [
        "from langchain.chat_models import ChatOpenAI\n",
        "from langchain_google_community import GoogleSearchAPIWrapper\n",
        "from langchain.schema import HumanMessage, SystemMessage\n",
        "from langchain.agents  import load_tools\n",
        "import re\n",
        "# 初始化 API Key\n",
        "OPENAI_API_KEY = userdata.get(\"OPENAI_API_KEY\")\n",
        "model = ChatOpenAI(openai_api_key=OPENAI_API_KEY, model=\"gpt-4\")\n",
        "\n",
        "# 初始化 Google Search 工具\n",
        "search_tool = GoogleSearchAPIWrapper(k=10)\n",
        "custom_tool = Tool(\n",
        "    name=\"google-search\",\n",
        "    func=search_tool.run,\n",
        "    description=\"使用 Google 搜尋工具,支援繁體中文,如果有外國人名,保留外國原名\"\n",
        ")\n",
        "\n",
        "# 加載其他工具（例如計算器或其他工具）\n",
        "tools = load_tools([\"llm-math\"], llm=model)  # 載入內建工具，如數學計算工具\n",
        "tools.append(custom_tool)  # 添加自訂的 Google Search 工具\n",
        "\n",
        "# 定義使用者查詢\n",
        "query = input(\"請輸入你的問題: \")\n",
        "\n",
        "# 第一次查詢 GPT 模型\n",
        "response = model.generate([[\n",
        "    SystemMessage(content=\"當你不確定使用者問題的答案時，請回答「不知道」\"),\n",
        "    HumanMessage(content=query)\n",
        "]])\n",
        "\n",
        "# 檢查模型是否回答 \"不知道\"\n",
        "answer = response.generations[0][0].text.strip()\n",
        "\n",
        "if re.search(r\"不知道|無法\", answer):\n",
        "  print(\"===== 啟動 agent =====\")  # 使用 Google Search 查詢\n",
        "\n",
        "  agent = initialize_agent(tools, model, agent=AgentType.ZERO_SHOT_REACT_DESCRIPTION, verbose=True)\n",
        "\n",
        "\n",
        "  print(\"===== 啟動 google.search =====\")  # 使用 Google Search 查詢\n",
        "\n",
        "  content = \"以下為已發生的事實：\\n\"\n",
        "  reponse = agent.run(query)\n",
        "\n",
        "  # 整理搜尋結果\n",
        "  content += f\"{reponse}\"\n",
        "\n",
        "  content += \"請依照上述事實回答以下問題。\\n\"\n",
        "  print(content)\n",
        "\n",
        "  # 第二次查詢 GPT 模型，帶入搜尋結果\n",
        "  response = model.generate([[\n",
        "      SystemMessage(content=content),\n",
        "      HumanMessage(content=query)\n",
        "  ]])\n",
        "  answer = response.generations[0][0].text.strip()\n",
        "\n",
        "# 輸出最終回答\n",
        "print(\"===== Response =====\")\n",
        "print(answer)\n"
      ],
      "metadata": {
        "id": "hEnPcbIAKCRd",
        "outputId": "7ae0e9ec-16ae-4d03-fa80-cb7635592711",
        "colab": {
          "base_uri": "https://localhost:8080/"
        }
      },
      "execution_count": 22,
      "outputs": [
        {
          "output_type": "stream",
          "name": "stdout",
          "text": [
            "請輸入你的問題: 2024年中華職棒冠軍是誰\n",
            "===== 啟動 agent =====\n",
            "===== 啟動 google.search =====\n",
            "\n",
            "\n",
            "\u001b[1m> Entering new AgentExecutor chain...\u001b[0m\n",
            "\u001b[32;1m\u001b[1;3m我需要查詢這個訊息\n",
            "Action: google-search\n",
            "Action Input: 2024年中華職棒冠軍是誰\u001b[0m\n",
            "Observation: \u001b[33;1m\u001b[1;3m2024年中華職棒總冠軍賽，正式名稱為2024 CPBL中華電信台灣大賽，是中華職棒35年的最後一個系列賽，系列賽採七戰四勝制，先拿四勝者成為該年度總冠軍；系列賽在 ... 本季台灣大賽延續去年主場優勢，全年勝率較高的季冠軍球隊擁有第1、2、5、6、7之五場主場安排，另一方則是第3、4戰之兩場主場安排。因此中信兄弟隊將1、2戰主場安排於臺北大 ... 2024年中华职棒季后挑战赛是中华职棒35年季后赛第一轮，由统一7-ELEVEn狮（年度第2，上半季冠军，66胜53败1和）和乐天桃猿（年度第3，外卡，62胜57败1和）进行4战3胜制系列赛。 ... （CPBL），簡稱中華職棒、中職，是 ... 2024年下半季. 一軍例行賽, 一軍總冠軍賽, 一軍季後挑戰賽, 一軍熱身賽, 二軍例行賽, 二 ... Oct 26, 2024 ... 2024年中華職棒的總冠軍是中信兄弟。也是隊史第10座！球迷們開心地拋黃色彩帶慶祝，球員也在確定封王後落淚，釋放壓力，激動人心的一刻一起來看看！ BEHIND THE CHAMPION：冠軍之路特展 2024 年11 月24 日， 是台灣球迷永遠會記得的一天。 那天晚上，在社區裡、在高樓大廈、在全台每一個角落， 我們一起為這群選手們吶喊  ... Oct 18, 2024 ... 雙方在今日公布明日首戰先發投手，雙方皆是王牌上陣統一獅派出#古林睿煬 / 中信兄弟派出#德保拉 有趣的是，兩人皆入選今年世界12強棒球錦標賽國手分別代表 ... Jan 30, 2018 ... 蔡英文總統今（30）日下午接見「2017年中華職棒總冠軍Lamigo桃猿隊」，肯定Lamigo在職棒賽事中的亮麗成績及優異表現，也強調未來每年會邀請臺灣大賽冠軍隊 ... Oct 15, 2024 ... ... 年後再度交手，將展現最大拚勁爭奪中華職棒35年的總冠軍榮耀。中華電信力挺中華職棒各項運動賽事，今年已是第四年冠名台灣大賽，以實際行動力挺台灣國 ... Jun 30, 2022 ... 中華台北達到了有史以來在WBSC棒球世界排名最高的名次第二名。1968年，在台幣五百元鈔票上所顯現紅葉少棒傳奇成就之後，中華棒協走上國際，這開始了一個 ...\u001b[0m\n",
            "Thought:\u001b[32;1m\u001b[1;3m我現在知道2024年中華職棒的冠軍是誰了\n",
            "Final Answer: 2024年中華職棒的冠軍是中信兄弟。\u001b[0m\n",
            "\n",
            "\u001b[1m> Finished chain.\u001b[0m\n",
            "以下為已發生的事實：\n",
            "2024年中華職棒的冠軍是中信兄弟。請依照上述事實回答以下問題。\n",
            "\n",
            "===== Response =====\n",
            "2024年中華職棒的冠軍是中信兄弟。\n"
          ]
        }
      ]
    }
  ]
}